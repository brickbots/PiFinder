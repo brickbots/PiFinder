{
 "cells": [
  {
   "cell_type": "code",
   "execution_count": 4,
   "id": "b508f4ac-46ae-4fee-a6e4-d719b97b639f",
   "metadata": {},
   "outputs": [
    {
     "name": "stdout",
     "output_type": "stream",
     "text": [
      "Requirement already satisfied: pandas in /opt/homebrew/lib/python3.9/site-packages (1.5.3)\n",
      "Requirement already satisfied: python-dateutil>=2.8.1 in /opt/homebrew/lib/python3.9/site-packages (from pandas) (2.8.2)\n",
      "Requirement already satisfied: pytz>=2020.1 in /opt/homebrew/lib/python3.9/site-packages (from pandas) (2022.7.1)\n",
      "Requirement already satisfied: numpy>=1.20.3 in /opt/homebrew/lib/python3.9/site-packages (from pandas) (1.26.2)\n",
      "Requirement already satisfied: six>=1.5 in /opt/homebrew/lib/python3.9/site-packages (from python-dateutil>=2.8.1->pandas) (1.15.0)\n",
      "\u001b[33mDEPRECATION: ipykernel 6.0.1 has a non-standard dependency specifier matplotlib-inline<0.2.0appnope,>=0.1.0; platform_system == \"Darwin\". pip 24.1 will enforce this behaviour change. A possible replacement is to upgrade to a newer version of ipykernel or contact the author to suggest that they release a version with a conforming dependency specifiers. Discussion can be found at https://github.com/pypa/pip/issues/12063\u001b[0m\u001b[33m\n",
      "\u001b[0m\u001b[33mDEPRECATION: Configuring installation scheme with distutils config files is deprecated and will no longer work in the near future. If you are using a Homebrew or Linuxbrew Python, please see discussion at https://github.com/Homebrew/homebrew-core/issues/76621\u001b[0m\u001b[33m\n",
      "\u001b[0m"
     ]
    }
   ],
   "source": [
    "!pip install pandas"
   ]
  },
  {
   "cell_type": "code",
   "execution_count": 21,
   "id": "3a715f00-6c2e-4b81-912f-f5e4cbeff331",
   "metadata": {},
   "outputs": [
    {
     "name": "stdout",
     "output_type": "stream",
     "text": [
      "<class 'pandas.core.frame.DataFrame'>\n",
      "RangeIndex: 52 entries, 0 to 51\n",
      "Data columns (total 11 columns):\n",
      " #   Column   Non-Null Count  Dtype \n",
      "---  ------   --------------  ----- \n",
      " 0   SH2-005  52 non-null     object\n",
      " 1   NGC6357  45 non-null     object\n",
      " 2   SCO      52 non-null     object\n",
      " 3   1725     52 non-null     int64 \n",
      " 4   -3412    52 non-null     int64 \n",
      " 5   100      52 non-null     object\n",
      " 6   3        52 non-null     int64 \n",
      " 7   2        52 non-null     int64 \n",
      " 8   2.1      52 non-null     int64 \n",
      " 9   164      52 non-null     int64 \n",
      " 10  NOTES    52 non-null     object\n",
      "dtypes: int64(6), object(5)\n",
      "memory usage: 4.6+ KB\n",
      "None\n"
     ]
    }
   ],
   "source": [
    "import pandas as pd\n",
    "\n",
    "# Assuming the file is named 'data.csv'\n",
    "file_path = 'names.dat'\n",
    "\n",
    "# Read the CSV file using pandas\n",
    "df = pd.read_csv(file_path, delimiter=';')\n",
    "print(df.info())\n",
    "# Display the first few rows of the dataframe to confirm it's loaded correctly"
   ]
  },
  {
   "cell_type": "code",
   "execution_count": 46,
   "id": "16b012bd-36b8-4986-ba1d-ce48de0304e7",
   "metadata": {},
   "outputs": [
    {
     "name": "stdout",
     "output_type": "stream",
     "text": [
      "appending IC59\n",
      "[31, []]\n",
      "31 \n",
      "[32, []]\n",
      "32 \n",
      "[37, []]\n",
      "37 \n",
      "[54, []]\n",
      "54 \n",
      "[68, []]\n",
      "68 \n",
      "[8, []]\n",
      "8 \n",
      "[71, []]\n",
      "71 \n",
      "[86, []]\n",
      "86 \n",
      "[95, []]\n",
      "95 \n",
      "[100, []]\n",
      "100 \n",
      "[105, []]\n",
      "105 \n",
      "[108, []]\n",
      "108 \n",
      "[128, []]\n",
      "128 \n",
      "[131, []]\n",
      "131 \n",
      "[125, []]\n",
      "125 \n",
      "[142, []]\n",
      "142 \n",
      "[155, []]\n",
      "155 \n",
      "[156, []]\n",
      "156 \n",
      "[158, []]\n",
      "158 \n",
      "[171, []]\n",
      "171 \n",
      "[157, []]\n",
      "157 \n",
      "[162, []]\n",
      "162 \n",
      "[184, []]\n",
      "184 \n",
      "[185, ['IC59']]\n",
      "185 IC59\n",
      "[188, ['IC59']]\n",
      "188 IC59\n",
      "[190, ['IC59']]\n",
      "190 IC59\n",
      "[238, []]\n",
      "238 \n",
      "[222, []]\n",
      "222 \n",
      "[206, []]\n",
      "206 \n",
      "[212, []]\n",
      "212 \n",
      "[216, []]\n",
      "216 \n",
      "[229, []]\n",
      "229 \n",
      "[236, []]\n",
      "236 \n",
      "[237, []]\n",
      "237 \n",
      "[279, []]\n",
      "279 \n",
      "[240, []]\n",
      "240 \n",
      "[235, []]\n",
      "235 \n",
      "[276, []]\n",
      "276 \n",
      "[252, []]\n",
      "252 \n",
      "[248, []]\n",
      "248 \n",
      "[273, []]\n",
      "273 \n",
      "[296, []]\n",
      "296 \n",
      "[288, []]\n",
      "288 \n",
      "[301, []]\n",
      "301 \n",
      "[311, []]\n",
      "311 \n"
     ]
    },
    {
     "name": "stderr",
     "output_type": "stream",
     "text": [
      "/tmp/ipykernel_47443/400735780.py:8: FutureWarning: Series.__getitem__ treating keys as positions is deprecated. In a future version, integer keys will always be treated as labels (consistent with DataFrame behavior). To access a value by position, use `ser.iloc[pos]`\n",
      "  if isinstance(row[1], str):\n",
      "/tmp/ipykernel_47443/400735780.py:9: FutureWarning: Series.__getitem__ treating keys as positions is deprecated. In a future version, integer keys will always be treated as labels (consistent with DataFrame behavior). To access a value by position, use `ser.iloc[pos]`\n",
      "  temp_names = row[1].strip().split(',')\n",
      "/tmp/ipykernel_47443/400735780.py:18: FutureWarning: Series.__getitem__ treating keys as positions is deprecated. In a future version, integer keys will always be treated as labels (consistent with DataFrame behavior). To access a value by position, use `ser.iloc[pos]`\n",
      "  result.append([int(row[0][4:]), names])\n"
     ]
    }
   ],
   "source": [
    "result = []\n",
    "\n",
    "def is_good_name(name):\n",
    "    return name.startswith('IC') or name.startswith('NGC')\n",
    "\n",
    "for index, row in df.iterrows():\n",
    "    #print(index, row)\n",
    "    if isinstance(row[1], str):\n",
    "        temp_names = row[1].strip().split(',')\n",
    "        if len(temp_names) == 2:\n",
    "            names = []\n",
    "            if is_good_name(temp_names[0]):\n",
    "                print(\"appending\", temp_names[0])\n",
    "                names.append(temp_names[0])\n",
    "            if is_good_name(temp_names[1]):\n",
    "                print(\"appending\", temp_names[1])\n",
    "                names.append(temp_names[1])\n",
    "        result.append([int(row[0][4:]), names])\n",
    "for entry in result:\n",
    "    print(entry)\n",
    "    print(entry[0], entry[1][0] if entry[1] else '')"
   ]
  },
  {
   "cell_type": "code",
   "execution_count": null,
   "id": "4884808b-a0cb-456e-b28a-936543960dbc",
   "metadata": {},
   "outputs": [],
   "source": []
  }
 ],
 "metadata": {
  "kernelspec": {
   "display_name": "Python 3",
   "language": "python",
   "name": "python3"
  },
  "language_info": {
   "codemirror_mode": {
    "name": "ipython",
    "version": 3
   },
   "file_extension": ".py",
   "mimetype": "text/x-python",
   "name": "python",
   "nbconvert_exporter": "python",
   "pygments_lexer": "ipython3",
   "version": "3.11.7"
  }
 },
 "nbformat": 4,
 "nbformat_minor": 5
}
